{
 "cells": [
  {
   "cell_type": "markdown",
   "id": "e7d35ef1",
   "metadata": {},
   "source": [
    "# Лабораторная работа №1\n",
    "## Выполнил студент группы БФИ2101 Солиев Олимходжа\n",
    "### Задание 1\n",
    "1. Создать Jupyter Notebook со следующим наименованием: Lab1_Группа_ФИО\n",
    "2. Создать новую ячейку с помощью кнопки\n",
    "3. В созданной ячейке по указанной ниже форме заполните оглавление файла,\n",
    "заменив наименование группы и вписав свое ФИО,\n",
    "Рисунок 1 - Форма оглавления файла в ячейке\n",
    "после чего создайте еще одну ячейку и напишите следующий код:\n",
    "4. С помощью кнопки запустите выполнение всех ячеек.\n",
    "5. После выполнения у вас должна отформатироваться ячейка с оглавлением и\n",
    "должен выполниться “Hello, World!” (см. рис. 2)"
   ]
  },
  {
   "cell_type": "code",
   "execution_count": 1,
   "id": "d952c0c6",
   "metadata": {
    "scrolled": true
   },
   "outputs": [
    {
     "name": "stdout",
     "output_type": "stream",
     "text": [
      "Hello, World!\n"
     ]
    }
   ],
   "source": [
    "print(\"Hello, World!\")"
   ]
  },
  {
   "cell_type": "markdown",
   "id": "831ea718",
   "metadata": {},
   "source": [
    "### Задание 2\n",
    "Написать генератор случайных матриц(многомерных), который принимает\n",
    "опциональные параметры `m, n, min_limit, max_limit`, где `m` и `n` указывают размер\n",
    "матрицы, а `min_lim` и `max_lim` - минимальное и максимальное значение для\n",
    "генерируемого числа . По умолчанию при отсутствии параметров принимать следующие\n",
    "значения:\n",
    "``` python\n",
    "m = 50\n",
    "n = 50\n",
    "min_limit = -250\n",
    "max_limit = 1000 + (номер своего варианта)\n",
    "```"
   ]
  },
  {
   "cell_type": "code",
   "execution_count": 2,
   "id": "5cecc8e4",
   "metadata": {},
   "outputs": [],
   "source": [
    "from random import randint\n",
    "def random_matrix(m = 50, n = 50, min_limit = -250, max_limit = 1008):\n",
    "    return [[randint(min_limit, max_limit) for _ in range(n)] for _ in range(m)]"
   ]
  },
  {
   "cell_type": "markdown",
   "id": "815515c0",
   "metadata": {},
   "source": [
    "### Задание 3\n",
    "Реализовать методы сортировки строк числовой матрицы в соответствии с\n",
    "заданием. Оценить время работы каждого алгоритма сортировки и сравнить его со\n",
    "временем стандартной функции сортировки. Испытания проводить на сгенерированных\n",
    "матрицах.\n",
    "\n",
    "Методы:\n",
    "\n",
    " Алгоритм \n",
    "\n",
    "| [Выбором](https://en.wikipedia.org/wiki/Selection_sort) | \n",
    "| [Вставкой](https://en.wikipedia.org/wiki/Insertion_sort) |\n",
    "| [Обменом](https://en.wikipedia.org/wiki/Bubble_sort) |\n",
    "| [Шелла](https://en.wikipedia.org/wiki/Shellsort) |\n",
    "| [Турнирная](https://en.wikipedia.org/wiki/Tournament_sort) |\n",
    "| [Быстрая сортировка](https://en.wikipedia.org/wiki/Quicksort) |\n",
    "| [Пирамидальная](https://en.wikipedia.org/wiki/Heapsort) |"
   ]
  },
  {
   "cell_type": "code",
   "execution_count": 3,
   "id": "92ea903a",
   "metadata": {},
   "outputs": [],
   "source": [
    "# Сортировка выбором\n",
    "def selection_sort(arr):\n",
    "    h = 1\n",
    "    for i in range(len(arr)):\n",
    "        mx = arr[0]\n",
    "        pos = 0\n",
    "        for j in range(len(arr) - h + 1):\n",
    "            if arr[j] > mx:\n",
    "                mx = arr[j]\n",
    "                pos = j\n",
    "        arr[len(arr) - h], arr[pos] = arr[pos], arr[len(arr) - h]\n",
    "        h += 1"
   ]
  },
  {
   "cell_type": "code",
   "execution_count": 4,
   "id": "72e74f00",
   "metadata": {},
   "outputs": [],
   "source": [
    "# Сортировка вставкой\n",
    "def insertion_sort(arr):\n",
    "    for i in range(1, len(arr)):\n",
    "        for k in range(i, 0, -1):\n",
    "            if arr[k - 1] > arr[k]:\n",
    "                arr[k], arr[k - 1] = arr[k - 1], arr[k]"
   ]
  },
  {
   "cell_type": "code",
   "execution_count": 5,
   "id": "886deb3f",
   "metadata": {},
   "outputs": [],
   "source": [
    "# Сортировка обменом\n",
    "def bubble_sort(arr):\n",
    "    for i in range(len(arr)):\n",
    "        for j in range(0, len(arr)-i-1): \n",
    "            if arr[j] > arr[j+1]:\n",
    "                arr[j], arr[j+1] = arr[j+1], arr[j]"
   ]
  },
  {
   "cell_type": "code",
   "execution_count": 6,
   "id": "cbb3a087",
   "metadata": {},
   "outputs": [],
   "source": [
    "# Сортировка Шелла\n",
    "def shell_sort(arr):\n",
    "    last_index = len(arr) - 1\n",
    "    step = len(arr) // 2\n",
    "    while step > 0:\n",
    "        for i in range(step, last_index + 1, 1):\n",
    "            j = i\n",
    "            delta = j - step\n",
    "            while delta >= 0 and arr[delta] > arr[j]:\n",
    "                arr[delta], arr[j] = arr[j], arr[delta]\n",
    "                j = delta\n",
    "                delta = j - step\n",
    "        step //= 2"
   ]
  },
  {
   "cell_type": "code",
   "execution_count": 7,
   "id": "152f3dd2",
   "metadata": {},
   "outputs": [],
   "source": [
    "# Быстрая сортировка\n",
    "def quick_sort(arr, first=0, last=None):\n",
    "    if last is None:\n",
    "        return\n",
    "    if first >= last:\n",
    "        return\n",
    " \n",
    "    i, j = first, last\n",
    "    piv = arr[(last + first) // 2]\n",
    " \n",
    "    while i <= j:\n",
    "        while arr[i] < piv: i += 1\n",
    "        while arr[j] > piv: j -= 1\n",
    "        if i <= j:\n",
    "            arr[i], arr[j] = arr[j], arr[i]\n",
    "            i, j = i + 1, j - 1\n",
    "            \n",
    "    quick_sort(arr, first, j)\n",
    "    quick_sort(arr, i, last)"
   ]
  },
  {
   "cell_type": "code",
   "execution_count": 8,
   "id": "a04955fe",
   "metadata": {},
   "outputs": [],
   "source": [
    "# Турнирная сортировка\n",
    "def tournament_sort(arr):\n",
    "    tree = [None] * 2 * (len(arr) + len(arr) % 2)\n",
    "    index = len(tree) - len(arr) - len(arr) % 2\n",
    "    \n",
    "    for i, v in enumerate(arr):\n",
    "        tree[index + i] = (i, v)\n",
    "    \n",
    "    for j in range(len(arr)):\n",
    "        n = len(arr)\n",
    "        index = len(tree) - len(arr) - len(arr) % 2\n",
    "        while index > -1:\n",
    "            n = (n + 1) // 2\n",
    "            for i in range(n):\n",
    "                i = max(index + i * 2, 1) # на последней итерация index + i * 2 = 0\n",
    "                if tree[i] is not None and tree[i + 1] is not None:\n",
    "                    if tree[i][1] < tree[i + 1][1]:\n",
    "                        tree[i // 2] = tree[i]\n",
    "                    else:\n",
    "                        tree[i // 2] = tree[i + 1]\n",
    "                else:\n",
    "                    tree[i // 2] = tree[i] if tree[i] != None else tree[i + 1]\n",
    "            index -= n\n",
    "\n",
    "        index, x = tree[0]\n",
    "        arr[j] = x\n",
    "        tree[len(tree) - len(arr) - len(arr) % 2 + index] = None"
   ]
  },
  {
   "cell_type": "code",
   "execution_count": 9,
   "id": "1152c036",
   "metadata": {
    "scrolled": true
   },
   "outputs": [
    {
     "name": "stdout",
     "output_type": "stream",
     "text": [
      "Алгоритм                   Время\n",
      "--------------------------------\n",
      "Быстрая сортировка         4.3800000000260296e-07\n",
      "Встроенная сортировка      3.7910000000067615e-05\n",
      "Cортировка Шелла           0.0023711160000000576\n",
      "Сортировка выбором         0.066503316\n",
      "Сортировка вставкой        0.12180267999999998\n",
      "Сортировка обменом         0.13347199000000004\n",
      "Турнирная сортировка       1.743574362\n"
     ]
    }
   ],
   "source": [
    "import random\n",
    "import time\n",
    "\n",
    "SORT_FUNCTIONS = {\n",
    "    'Сортировка выбором': selection_sort,\n",
    "    'Сортировка вставкой': insertion_sort,\n",
    "    'Сортировка обменом': bubble_sort,\n",
    "    'Cортировка Шелла': shell_sort,\n",
    "    'Быстрая сортировка': quick_sort,\n",
    "    'Турнирная сортировка': tournament_sort,\n",
    "    'Встроенная сортировка': sorted\n",
    "}\n",
    "\n",
    "def print_comparison(comparison):\n",
    "    largest_name_len = len(max(comparison.keys(), key=len))\n",
    "    largest_name_len += 6\n",
    "\n",
    "    heading = 'Алгоритм'.ljust(largest_name_len) + 'Время'\n",
    "    print(heading)\n",
    "    print('-' * len(heading))\n",
    "    for algo, time_taken in comparison.items():\n",
    "        print(f'{algo:<{largest_name_len}}{time_taken}')\n",
    "\n",
    "time_taken = {}\n",
    "samples = random_matrix(50, 1000)\n",
    "for algo_name, sorter in SORT_FUNCTIONS.items():\n",
    "    samples_copy = samples.copy()\n",
    "    start = time.perf_counter()\n",
    "    for sample in samples_copy:\n",
    "        sorter(sample)\n",
    "    end = time.perf_counter()\n",
    "\n",
    "    time_taken[algo_name] = (end - start) / len(samples)\n",
    "\n",
    "time_taken_sorted = dict(sorted(time_taken.items(), key=lambda kv: kv[1]))\n",
    "print_comparison(time_taken_sorted)\n"
   ]
  },
  {
   "cell_type": "code",
   "execution_count": null,
   "id": "dbf12a51",
   "metadata": {},
   "outputs": [],
   "source": []
  }
 ],
 "metadata": {
  "kernelspec": {
   "display_name": "Python 3 (ipykernel)",
   "language": "python",
   "name": "python3"
  },
  "language_info": {
   "codemirror_mode": {
    "name": "ipython",
    "version": 3
   },
   "file_extension": ".py",
   "mimetype": "text/x-python",
   "name": "python",
   "nbconvert_exporter": "python",
   "pygments_lexer": "ipython3",
   "version": "3.9.13"
  }
 },
 "nbformat": 4,
 "nbformat_minor": 5
}
